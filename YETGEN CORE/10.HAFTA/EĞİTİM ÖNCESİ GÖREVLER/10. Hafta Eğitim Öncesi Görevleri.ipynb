{
 "cells": [
  {
   "attachments": {},
   "cell_type": "markdown",
   "metadata": {},
   "source": [
    "# Problem 1"
   ]
  },
  {
   "cell_type": "code",
   "execution_count": 6,
   "metadata": {},
   "outputs": [
    {
     "name": "stdout",
     "output_type": "stream",
     "text": [
      "(5,)\n",
      "[1 3 4 8 9]\n",
      "1\n"
     ]
    }
   ],
   "source": [
    "\n",
    "import numpy as np\n",
    "m=np.random.randint(10,size=5)\n",
    "print(np.shape(m))\n",
    "print(m.reshape(5))\n",
    "print(m.ndim)\n",
    "# 1 - numpy kütüphanesini import edin\n",
    "# 2 - 0 ile 10 arasında 5 sayıdan oluşan matris üretin\n",
    "# 3 - matris'in boyutunu öğrenin\n",
    "# 4 - matris'i yeniden boyutlandırın\n",
    "# 5 - matris'in boyut sayısını öğrenin\n"
   ]
  },
  {
   "attachments": {},
   "cell_type": "markdown",
   "metadata": {},
   "source": [
    "# Problem 2"
   ]
  },
  {
   "cell_type": "code",
   "execution_count": 16,
   "metadata": {},
   "outputs": [
    {
     "name": "stdout",
     "output_type": "stream",
     "text": [
      "[1] [3 5] [7 9]\n",
      "[1 3 5 7 9]\n"
     ]
    }
   ],
   "source": [
    "n=np.arange(1,10,2)\n",
    "a,b,c=np.split(n,[1,3])\n",
    "print(a , b , c )\n",
    "print(np.concatenate([a,b,c]))\n",
    "# 1 - 0 ile 10 arasında bulunan tek sayılardan oluşan matris üretin\n",
    "# 2 - Oluşturduğunuz matrisi parçalayı\n",
    "# 3 - Parçalanmış matrisleri birleştirin\n"
   ]
  },
  {
   "attachments": {},
   "cell_type": "markdown",
   "metadata": {},
   "source": [
    "# Problem 3"
   ]
  },
  {
   "cell_type": "code",
   "execution_count": 46,
   "metadata": {},
   "outputs": [
    {
     "name": "stdout",
     "output_type": "stream",
     "text": [
      "[ 9 15 39 91 91 35 23 13 41  9]\n",
      "Boyutu: (10,)\n",
      "Boyut sayısı: 1\n",
      "Veri  tipi: int64\n",
      "Minumum: 9\n",
      "Maximum: 91\n",
      "Ortalama: 36.6\n"
     ]
    }
   ],
   "source": [
    "a=np.random.choice(np.arange(1, 101, 2), size=10)\n",
    "print(a)\n",
    "print(\"Boyutu:\",a.shape)\n",
    "print(\"Boyut sayısı:\",a.ndim)\n",
    "print(\"Veri  tipi:\",a.dtype)\n",
    "print(\"Minumum:\",np.min(a))\n",
    "print(\"Maximum:\",np.max(a))\n",
    "print(\"Ortalama:\",np.mean(a))\n",
    "# 1 - 5 ile 100 arasında ikişer ikişer atlayarak rastgele 10 sayıdan oluşan matris üretin\n",
    "# 2 - matris'in özelliklerini inceleyin\n"
   ]
  }
 ],
 "metadata": {
  "kernelspec": {
   "display_name": "Python 3",
   "language": "python",
   "name": "python3"
  },
  "language_info": {
   "codemirror_mode": {
    "name": "ipython",
    "version": 3
   },
   "file_extension": ".py",
   "mimetype": "text/x-python",
   "name": "python",
   "nbconvert_exporter": "python",
   "pygments_lexer": "ipython3",
   "version": "3.12.3"
  },
  "orig_nbformat": 4,
  "vscode": {
   "interpreter": {
    "hash": "5026d2d6e7aaaaba093def813beadff083d8733e4a511af01735cbabd156995d"
   }
  }
 },
 "nbformat": 4,
 "nbformat_minor": 2
}
