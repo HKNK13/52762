{
 "cells": [
  {
   "cell_type": "code",
   "execution_count": 3,
   "metadata": {},
   "outputs": [
    {
     "data": {
      "text/plain": [
       "5040"
      ]
     },
     "execution_count": 3,
     "metadata": {},
     "output_type": "execute_result"
    }
   ],
   "source": [
    "\"\"\"FAKTORİYEL\"\"\"\n",
    "def factorial(sayi):\n",
    "    faktoriyel=1\n",
    "    if(sayi==0 or sayi==1):\n",
    "        return 1 \n",
    "    while sayi>=1:\n",
    "        faktoriyel*=sayi\n",
    "        sayi-=1\n",
    "    return faktoriyel\n",
    "    \n",
    "factorial(7)\n"
   ]
  },
  {
   "cell_type": "code",
   "execution_count": 4,
   "metadata": {},
   "outputs": [
    {
     "name": "stdout",
     "output_type": "stream",
     "text": [
      "cinsi kedi bu olan hayvanın adı piroz'dur\n"
     ]
    }
   ],
   "source": []
  },
  {
   "cell_type": "code",
   "execution_count": 92,
   "metadata": {},
   "outputs": [
    {
     "name": "stdout",
     "output_type": "stream",
     "text": [
      "Movie objesi oluşturuldu.\n",
      "Ölümlü Dünya by Ali Atay\n",
      "109\n",
      "Movie silindi\n"
     ]
    }
   ],
   "source": [
    "class Movie:\n",
    "    def __init__(self,movie,director,duriction):\n",
    "        self.movie=movie\n",
    "        self.director=director\n",
    "        self.duriction=duriction \n",
    "        print(\"Movie objesi oluşturuldu.\")\n",
    "    def __str__(self):\n",
    "        return f\"{self.movie} by {self.director}\"\n",
    "    def __len__(self):\n",
    "        return self.duriction\n",
    "    def __del__(self):\n",
    "        print(\"Movie silindi\")\n",
    "\n",
    " \n",
    "m=Movie(\"Ölümlü Dünya\",\"Ali Atay\",109)\n",
    "print(str(m))\n",
    "print(len(m))\n",
    "del m\n",
    "\n",
    "\n",
    "\n",
    "    "
   ]
  },
  {
   "cell_type": "code",
   "execution_count": 27,
   "metadata": {},
   "outputs": [
    {
     "name": "stdout",
     "output_type": "stream",
     "text": [
      "Dairenin çevresi 24 cm ve alanı ise 48.\n",
      "Dairenin çevresi 30 cm ve alanı ise 75.\n"
     ]
    }
   ],
   "source": [
    "class Circle:\n",
    "    pi=3\n",
    "    def __init__(self,yariçap=4):\n",
    "        self.yariçap=yariçap\n",
    "\n",
    "    def çevre(self):\n",
    "        return 2 * self.pi * self.yariçap\n",
    "    def alan(self):\n",
    "        return self.pi*(self.yariçap**2)\n",
    "    \n",
    "    \n",
    "c=Circle()\n",
    "c2=Circle(5)\n",
    "print(f\"Dairenin çevresi {c.çevre()} cm ve alanı ise {c.alan()}.\")\n",
    "print(f\"Dairenin çevresi {c2.çevre()} cm ve alanı ise {c2.alan()}.\")\n"
   ]
  },
  {
   "cell_type": "code",
   "execution_count": 14,
   "metadata": {},
   "outputs": [
    {
     "name": "stdout",
     "output_type": "stream",
     "text": [
      "hakan (20 ) burada çalışıyor\n",
      "hello world. I am hakan\n",
      "Yaşım 20\n",
      "name:hakan age:20 adress:no information\n"
     ]
    }
   ],
   "source": [
    "class Person:\n",
    "    adress=\"no information\"\n",
    "\n",
    "    def __init__(self,name,age,year):\n",
    "        self.name=name\n",
    "        self.age=age\n",
    "        self.year=year\n",
    "        print(f\"{name} ({age} ) burada çalışıyor\")\n",
    "\n",
    "    def intro(self):\n",
    "        print(\"hello world. I am \"+self.name)\n",
    "    def age1(self):\n",
    "        return 2024-self.year\n",
    "\n",
    "\n",
    "p1=Person(\"hakan\",20,2004)\n",
    "p1.intro()\n",
    "p1.age1()\n",
    "print(f\"Yaşım {p1.age1()}\")\n",
    "print(f\"name:{p1.name} age:{p1.age} adress:{p1.adress}\")\n",
    "\n",
    "        "
   ]
  },
  {
   "cell_type": "code",
   "execution_count": 79,
   "metadata": {},
   "outputs": [
    {
     "name": "stdout",
     "output_type": "stream",
     "text": [
      "Person created\n",
      "Person created\n",
      "Student created\n",
      "Person created\n",
      "Person created\n",
      "Hakan KIRANŞAL\n",
      "Sudenaz Saz numarası: 178\n",
      "Sudenaz Saz numarası:178\n",
      "I am a math teacher\n",
      "I am a person\n",
      "I am a student \n",
      "I am eating kebap\n",
      "I am eating kebap\n"
     ]
    }
   ],
   "source": [
    "class Person:\n",
    "    def __init__(self,fname,lname):\n",
    "        self.firstname=fname\n",
    "        self.lastname=lname\n",
    "        print(\"Person created\")\n",
    "    def who_am_i(self):\n",
    "        print(\"I am a person\")\n",
    "    def kebap(self):\n",
    "        print(\"I am eating kebap\")\n",
    "    \n",
    "\n",
    "class Student(Person):\n",
    "    def __init__(self,fname,lname,number):\n",
    "        Person.__init__(self,fname,lname)\n",
    "        print(\"Student created\")\n",
    "        self.studentNumber=number\n",
    "        Person.__init__(self,fname,lname)\n",
    "    \n",
    "    def who_am_i(self):\n",
    "        print(\"I am a student \")\n",
    "    def kebap(self):\n",
    "        print(\"I am eating kebap\")\n",
    "   \n",
    "class Teacher(Person):\n",
    "    def __init__(self,fname,lname,branch):\n",
    "        self.branch=branch\n",
    "        super().__init__(fname,lname)\n",
    "    def who_am_i(self):\n",
    "        print(f\"I am a {self.branch} teacher\")\n",
    "p1=Person(\"Hakan\",\"KIRANŞAL\")\n",
    "s1=Student(\"Sudenaz\",\"Saz\",178)\n",
    "t1=Teacher(\"Ali\",\"Veli\",\"math\")\n",
    "print(p1.firstname +\" \" + p1.lastname)\n",
    "print(s1.firstname +\" \" + s1.lastname +\" \" +\"numarası:\"+\"\",s1.studentNumber)\n",
    "print(s1.firstname +\" \" + s1.lastname +\" \" +\"numarası:\" +\"\"+ str(s1.studentNumber))\n",
    "t1.who_am_i()\n",
    "p1.who_am_i()\n",
    "s1.who_am_i()\n",
    "p1.kebap()\n",
    "s1.kebap()\n",
    "\n"
   ]
  }
 ],
 "metadata": {
  "kernelspec": {
   "display_name": "Python 3",
   "language": "python",
   "name": "python3"
  },
  "language_info": {
   "codemirror_mode": {
    "name": "ipython",
    "version": 3
   },
   "file_extension": ".py",
   "mimetype": "text/x-python",
   "name": "python",
   "nbconvert_exporter": "python",
   "pygments_lexer": "ipython3",
   "version": "3.12.3"
  }
 },
 "nbformat": 4,
 "nbformat_minor": 2
}
