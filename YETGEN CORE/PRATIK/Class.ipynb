{
 "cells": [
  {
   "cell_type": "code",
   "execution_count": 41,
   "metadata": {},
   "outputs": [
    {
     "name": "stdout",
     "output_type": "stream",
     "text": [
      "***1***\n",
      "Mavi\n",
      "Megane\n",
      "***2**\n",
      "Modeli Megane olan arabanın rengi Mavi \n",
      "Mavi\n",
      "***3**\n",
      "Hayvan\n",
      "Acayip Hayvan\n",
      "***4***\n",
      "2\n",
      "2\n"
     ]
    },
    {
     "data": {
      "text/plain": [
       "'Papağan cinsi kuşun kanat sayısı:4 '"
      ]
     },
     "execution_count": 41,
     "metadata": {},
     "output_type": "execute_result"
    }
   ],
   "source": [
    "\"Örnek class kullanimi\"\n",
    "print(\"***1***\")\n",
    "class Araba():\n",
    "    model=\"Megane\"\n",
    "    renk=\"Mavi\"\n",
    "    print(renk)\n",
    "araba=Araba()\n",
    "print(araba.model)\n",
    "print(\"***2**\")\n",
    "class Car:\n",
    "    def __init__(self,model,renk):\n",
    "        self.model=model\n",
    "        self.renk=renk\n",
    "        print(f\"Modeli {model} olan arabanın rengi {renk} \")\n",
    "        print(renk)\n",
    "a=Car(\"Megane\",\"Mavi\")\n",
    "\n",
    "#Görüldüğü gibi class da gövdeye yazılan kodlar çalışır\n",
    "print(\"***3**\")\n",
    "class Animal:\n",
    "    name=\"Hayvan\"\n",
    "bird=Animal\n",
    "print(bird.name)\n",
    "bird.name=\"Acayip Hayvan\"\n",
    "print(bird.name)\n",
    "#Sonradan değeri değiştirince o değeri ekrana yazıyor.\n",
    "print(\"***4***\")\n",
    "class birds():\n",
    "    wings=2\n",
    "    def __init__(self,n,w):\n",
    "        self.name=n\n",
    "        self.wing=w\n",
    "    def yaz(self):\n",
    "        print(birds.wings) #global \n",
    "        print(self.wings)#böyle kullanımda önce localde arar bulamazsa globale bakar\n",
    "        return f\"{self.name} cinsi kuşun kanat sayısı:{self.wing} \"#local\n",
    "       \n",
    "b=birds(\"Papağan\",4)\n",
    "b.yaz()\n"
   ]
  },
  {
   "cell_type": "code",
   "execution_count": 76,
   "metadata": {},
   "outputs": [
    {
     "name": "stdout",
     "output_type": "stream",
     "text": [
      "30\n",
      "200\n",
      "5.0\n",
      "5\n",
      "['__class__', '__delattr__', '__dict__', '__dir__', '__doc__', '__eq__', '__format__', '__ge__', '__getattribute__', '__getstate__', '__gt__', '__hash__', '__init__', '__init_subclass__', '__le__', '__lt__', '__module__', '__ne__', '__new__', '__reduce__', '__reduce_ex__', '__repr__', '__setattr__', '__sizeof__', '__str__', '__subclasshook__', '__weakref__', 'bölme', 'sum', 'çarpma']\n"
     ]
    }
   ],
   "source": [
    "\"Class da işlemler\"\n",
    "class işlem:\n",
    " \n",
    "    @staticmethod\n",
    "    def sum(a,b):\n",
    "        return a+b\n",
    "    @staticmethod\n",
    "    def çarpma(a,b):\n",
    "        return a*b\n",
    "    @classmethod\n",
    "    def bölme(cls,a,b):\n",
    "        return a/b\n",
    " \n",
    "    \n",
    "c=işlem\n",
    "print(işlem.sum(10,20))   \n",
    "print(işlem.çarpma(10,20))   \n",
    "print(işlem.bölme(10,2))\n",
    "print(int(c.bölme(10,2)))\n",
    "print(dir(işlem))#açık üye \n",
    "#print(c.__özel_nitelik) #özel niteliklere böyle erişemeyiz\n"
   ]
  },
  {
   "cell_type": "markdown",
   "metadata": {},
   "source": [
    "Class kullanımına örnek  proje 1\n"
   ]
  },
  {
   "cell_type": "code",
   "execution_count": 28,
   "metadata": {},
   "outputs": [
    {
     "name": "stdout",
     "output_type": "stream",
     "text": [
      "Soru 1: En iyi programla dili hangisidir?\n",
      "-) Python\n",
      "-) Java\n",
      "-) C#\n",
      "-) Javascript\n",
      "False\n",
      "Soru 2: En popüler programla dili hangisidir?\n",
      "-) Java\n",
      "-) C#\n",
      "-) Python\n",
      "-) Javascript\n",
      "False\n",
      "Soru 3: En çok kazandıran programla dili hangisidir?\n",
      "-) Python\n",
      "-) Javascript\n",
      "-) Java\n",
      "-) C#\n",
      "False\n",
      "Score: 0\n",
      "Quiz bitti.\n",
      "Quiz bitti.\n",
      "Quiz bitti.\n"
     ]
    }
   ],
   "source": [
    "class Question:\n",
    "    def __init__(self, text, choices, answer):\n",
    "        self.text = text\n",
    "        self.choices = choices\n",
    "        self.answer = answer\n",
    "\n",
    "    def checkAnswer(self, answer):\n",
    "        return self.answer == answer\n",
    "q1 = Question(\"En iyi programla dili hangisidir?\", [\"Python\", \"Java\", \"C#\", \"Javascript\"], \"Python\")\n",
    "q2 = Question(\"En popüler programla dili hangisidir?\", [\"Java\", \"C#\", \"Python\", \"Javascript\"], \"Python\")\n",
    "q3 = Question(\"En çok kazandıran programla dili hangisidir?\", [\"Python\", \"Javascript\", \"Java\", \"C#\"], \"Python\")\n",
    "class Quiz:\n",
    "    def __init__(self, questions):\n",
    "        self.questions = questions\n",
    "        self.score = 0\n",
    "        self.questionIndex = 0\n",
    "    def getQuestions(self):\n",
    "        return self.questions[self.questionIndex]\n",
    "    def displayQuestion(self):\n",
    "        question = self.getQuestions()\n",
    "        print(f\"Soru {self.questionIndex + 1}: {question.text}\")\n",
    "        for q in question.choices:\n",
    "            print(\"-) \" + q)\n",
    "        answer = str(input(\"Cevabınız: \"))\n",
    "        print(question.checkAnswer(answer))\n",
    "        self.guess(answer)\n",
    "        self.loadQuestions()\n",
    "    def guess(self, answer):\n",
    "        question = self.getQuestions()\n",
    "        if question.checkAnswer(answer):\n",
    "            self.score += 1\n",
    "        self.questionIndex += 1\n",
    "    def loadQuestions(self):\n",
    "        if len(self.questions) == self.questionIndex:\n",
    "            self.showScore()\n",
    "        else:\n",
    "            self.displayQuestion()\n",
    "            self.displayProgress()\n",
    "    def showScore(self):\n",
    "        print(\"Score: \" + str(self.score))\n",
    "    def displayProgress(self):\n",
    "        totalQuestion = len(self.questions)\n",
    "        questionNumber = self.questionIndex + 1\n",
    "        if questionNumber > totalQuestion:\n",
    "            print(\"Quiz bitti.\")\n",
    "        else:\n",
    "            print(f\"Question {questionNumber} of {totalQuestion}\".center(100, \"*\"))\n",
    "questions = [q1, q2, q3]\n",
    "quiz = Quiz(questions)\n",
    "quiz.loadQuestions()\n"
   ]
  }
 ],
 "metadata": {
  "kernelspec": {
   "display_name": "Python 3",
   "language": "python",
   "name": "python3"
  },
  "language_info": {
   "codemirror_mode": {
    "name": "ipython",
    "version": 3
   },
   "file_extension": ".py",
   "mimetype": "text/x-python",
   "name": "python",
   "nbconvert_exporter": "python",
   "pygments_lexer": "ipython3",
   "version": "3.12.3"
  }
 },
 "nbformat": 4,
 "nbformat_minor": 2
}
