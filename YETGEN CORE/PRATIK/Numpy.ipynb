{
 "cells": [
  {
   "cell_type": "markdown",
   "metadata": {},
   "source": [
    "Numpy Kütüphanesi\n",
    "\n",
    "*Veri analizi ve bilimsel hesaplamalarda kullanılır \n",
    "\n",
    "*Arrayler ve çok boyutlu arrayler üzerine yüksek performanslı işlemler yapılabilir\n"
   ]
  },
  {
   "cell_type": "code",
   "execution_count": 22,
   "metadata": {},
   "outputs": [
    {
     "name": "stdout",
     "output_type": "stream",
     "text": [
      "[2, 6, 12, 20]\n",
      "[ 2  6 12 20]\n"
     ]
    }
   ],
   "source": [
    "#NEDEN NUMPY?\n",
    "\n",
    "a=[1,2,3,4]\n",
    "b=[2,3,4,5]\n",
    "ab=[]\n",
    "for i in range(0,len(a)):\n",
    "    ab.append(a[i]*b[i])\n",
    "print(ab)\n",
    "\n",
    "import numpy as np \n",
    "a=np.array([1,2,3,4])\n",
    "b=np.array([2,3,4,5])\n",
    "print(a*b)"
   ]
  },
  {
   "cell_type": "markdown",
   "metadata": {},
   "source": [
    ".reshape() fonksiyonu ile arrayların boyutunu değiştirebiliriz\n",
    "\n",
    ".shape ile arraylarin boyutunu öğrenebiliriz\n",
    "\n",
    ".ndim ile arrayların boyut sayısını öğrenebiliriz"
   ]
  },
  {
   "cell_type": "code",
   "execution_count": 21,
   "metadata": {},
   "outputs": [
    {
     "name": "stdout",
     "output_type": "stream",
     "text": [
      "[[1 2 3]\n",
      " [4 5 6]\n",
      " [7 8 9]]\n",
      "(3, 3)\n",
      "(9,)\n",
      "1\n",
      "2\n"
     ]
    }
   ],
   "source": [
    "\n",
    "a=np.array([1,2,3,4,5,6,7,8,9])\n",
    "multi=a.reshape(3,3)\n",
    "print(multi)\n",
    "print(multi.shape)\n",
    "print(a.shape)\n",
    "print(a.ndim )\n",
    "print((multi.ndim))"
   ]
  },
  {
   "cell_type": "markdown",
   "metadata": {},
   "source": [
    ".concatenate() fonksiyonu ile birleştirme yapabiliriz\n",
    "\n",
    "ayrıca axis=0 ile satır , axis=1 ile sütün bazında birleştirme yapar"
   ]
  },
  {
   "cell_type": "code",
   "execution_count": 28,
   "metadata": {},
   "outputs": [
    {
     "name": "stdout",
     "output_type": "stream",
     "text": [
      "[ 1  2  3  4  5  6  7  8  9 10]\n",
      "[[1 2 3]\n",
      " [4 5 6]]\n",
      "[[1 2 3 1 2 3]\n",
      " [4 5 6 4 5 6]]\n"
     ]
    }
   ],
   "source": [
    "x=np.array([1,2,3,4,5])\n",
    "y=np.array([6,7,8,9,10])\n",
    "print(np.concatenate([x,y]))\n",
    "a=np.array([[1,2,3],[4,5,6]])\n",
    "print(np.concatenate([a]))\n",
    "print(np.concatenate([a,a], axis=1))"
   ]
  },
  {
   "cell_type": "markdown",
   "metadata": {},
   "source": [
    "Array ayırma (splitting) \n",
    "\n",
    ".split() fonksiyonu ile array ayırma yapabiliriz\n",
    "\n",
    ".vsplit() yatay ayırma \n",
    "\n",
    ".hsplit() dikey ayırma yapar\n",
    "\n",
    ".arange() basit bir şekilde dizi olulturmamısı sağlar np.arrange(start,stop,step)"
   ]
  },
  {
   "cell_type": "code",
   "execution_count": 30,
   "metadata": {},
   "outputs": [
    {
     "name": "stdout",
     "output_type": "stream",
     "text": [
      "[array([1, 2, 3]), array([4, 5]), array([6, 7, 8, 9])]\n",
      "[1 2 3]\n",
      "[4 5]\n",
      "[6 7 8 9]\n"
     ]
    }
   ],
   "source": [
    "m=np.array([1,2,3,4,5,6,7,8,9])\n",
    "print(np.split(m,[3,5]))\n",
    "a,b,c=np.split(m,[3,5])\n",
    "print(a)\n",
    "print(b)\n",
    "print(c)"
   ]
  },
  {
   "cell_type": "code",
   "execution_count": 36,
   "metadata": {},
   "outputs": [
    {
     "name": "stdout",
     "output_type": "stream",
     "text": [
      "[array([[0, 1, 2, 3],\n",
      "       [4, 5, 6, 7]]), array([[ 8,  9, 10, 11],\n",
      "       [12, 13, 14, 15]])]\n"
     ]
    },
    {
     "data": {
      "text/plain": [
       "[array([[ 0,  1],\n",
       "        [ 4,  5],\n",
       "        [ 8,  9],\n",
       "        [12, 13]]),\n",
       " array([[ 2,  3],\n",
       "        [ 6,  7],\n",
       "        [10, 11],\n",
       "        [14, 15]])]"
      ]
     },
     "execution_count": 36,
     "metadata": {},
     "output_type": "execute_result"
    }
   ],
   "source": [
    "n=np.arange(16).reshape(4,4)\n",
    "print(np.vsplit(n,[2]))\n",
    "np.hsplit(n,[2])"
   ]
  },
  {
   "cell_type": "markdown",
   "metadata": {},
   "source": [
    ".arange() basit bir şekilde dizi olulturmamısı sağlar  \"np.arrange(start,stop,step)\"\n",
    "\n",
    "np.zeros() 0'lardan oluşan numpy dizisi oluşturmak için kullanılır\n",
    "\n",
    "np.ones() 1'lerden oluşan numpy dizisi oluşturmak için kullanılır\n",
    "\n",
    "np.linspace() bellir bir aralıkta sayı oluşturmak için kullanılır\"(baş.,bitiş,bölünecek aralık)\"\n"
   ]
  },
  {
   "cell_type": "code",
   "execution_count": 3,
   "metadata": {},
   "outputs": [
    {
     "name": "stdout",
     "output_type": "stream",
     "text": [
      "[ 2  4  6  8 10]\n",
      "[0. 0. 0. 0. 0.]\n",
      "[1. 1. 1. 1. 1.]\n",
      "[  0.  25.  50.  75. 100.]\n",
      "[9 5 5]\n",
      "[ 45 145 245 345 445]\n"
     ]
    }
   ],
   "source": [
    "import numpy as np\n",
    "print(np.arange(2,12,2))\n",
    "print(np.zeros(5))\n",
    "print(np.ones(5))\n",
    "print(np.linspace(0,100,5))\n",
    "print(np.random.randint(2,10,3))\n",
    "npArray=np.arange(50)\n",
    "npMulti=npArray.reshape(5,10)\n",
    "print(npMulti.sum(axis=1))\n"
   ]
  },
  {
   "cell_type": "markdown",
   "metadata": {},
   "source": [
    "Array sıralama için sort() fonksiyonu kullanılır"
   ]
  },
  {
   "cell_type": "code",
   "execution_count": 23,
   "metadata": {},
   "outputs": [
    {
     "name": "stdout",
     "output_type": "stream",
     "text": [
      "[ 3  2 14  7 19 17 21  1]\n",
      "[ 1  2  3  7 14 17 19 21]\n",
      "[[13.74954545 13.58876573 13.08098735]\n",
      " [13.75858987 14.76037893 15.25978172]\n",
      " [15.23414863 15.10693993 17.87985204]]\n",
      "[[15.10693993 15.23414863 17.87985204]\n",
      " [13.58876573 13.75858987 15.25978172]\n",
      " [13.08098735 13.74954545 14.76037893]]\n"
     ]
    }
   ],
   "source": [
    "a=np.array([3,2,14,7,19,17,21,1])\n",
    "print(a)\n",
    "a.sort()\n",
    "print(a)\n",
    "m=np.random.normal(15,3,(3,3))\n",
    "print(np.sort(m,axis=0))\n",
    "print(np.sort(m,axis=1))"
   ]
  },
  {
   "cell_type": "markdown",
   "metadata": {},
   "source": [
    "Index ile elemanlara erişmek"
   ]
  },
  {
   "cell_type": "code",
   "execution_count": 32,
   "metadata": {},
   "outputs": [
    {
     "name": "stdout",
     "output_type": "stream",
     "text": [
      "[12  0  2  1  8  0  6  8  2  1]\n",
      "1\n",
      "[[12  7 11]\n",
      " [ 9  3 12]\n",
      " [ 8  5  9]]\n",
      "12\n"
     ]
    }
   ],
   "source": [
    "a=np.random.randint(10,size=10)\n",
    "a[0]=12\n",
    "print(a)\n",
    "print(a[-1])\n",
    "b=np.random.randint(13,size=(3,3))\n",
    "print(b)\n",
    "print(b[0,0])"
   ]
  },
  {
   "cell_type": "markdown",
   "metadata": {},
   "source": [
    "Sciling ile elemanlara erişmek "
   ]
  },
  {
   "cell_type": "code",
   "execution_count": 36,
   "metadata": {},
   "outputs": [
    {
     "name": "stdout",
     "output_type": "stream",
     "text": [
      "[20 21 22]\n",
      "[20 21 22]\n",
      "[23 24 25 26 27 28 29]\n",
      "[20 23 26 29]\n"
     ]
    }
   ],
   "source": [
    "a=np.arange(20,30)\n",
    "print(a[0:3])\n",
    "print(a[:3])\n",
    "print(a[3:])\n",
    "print(a[: : 3])"
   ]
  },
  {
   "cell_type": "code",
   "execution_count": 41,
   "metadata": {},
   "outputs": [
    {
     "name": "stdout",
     "output_type": "stream",
     "text": [
      "[[0 1 6 2 0]\n",
      " [4 5 6 4 4]\n",
      " [1 5 7 5 8]\n",
      " [2 6 7 0 2]\n",
      " [6 7 2 3 3]]\n",
      "[0 4 1 2 6]\n",
      "[4 5 6 4 4]\n",
      "[[0 1 6]\n",
      " [4 5 6]]\n"
     ]
    }
   ],
   "source": [
    "b=np.random.randint(10,size=(5,5))\n",
    "print(b)\n",
    "print(b[ : ,0]) #her satırın sıfırıncı elemanını alır\n",
    "print(b[1,:]) #her sütünun birinci elemanını aldı\n",
    "print(b[ 0:2 ,0:3])"
   ]
  },
  {
   "cell_type": "markdown",
   "metadata": {},
   "source": [
    "Fancy Index \n",
    "bir liste içinden bu arrayden istediğmiz indisleri koyarak o indislerdeki verileri alabiliriz"
   ]
  },
  {
   "cell_type": "code",
   "execution_count": 43,
   "metadata": {},
   "outputs": [
    {
     "name": "stdout",
     "output_type": "stream",
     "text": [
      "[ 0  3  6  9 12 15 18 21 24 27]\n",
      "[ 3  9 15]\n"
     ]
    }
   ],
   "source": [
    "yetgen=[1,3,5]\n",
    "v=np.arange(0,30,3)\n",
    "print(v)\n",
    "print(v[yetgen])"
   ]
  },
  {
   "cell_type": "markdown",
   "metadata": {},
   "source": [
    "Koşullu eleman işlemleri"
   ]
  },
  {
   "cell_type": "code",
   "execution_count": 53,
   "metadata": {},
   "outputs": [
    {
     "name": "stdout",
     "output_type": "stream",
     "text": [
      "[False False False  True  True]\n",
      "[4 5]\n",
      "[-2 -1  0  1  2]\n",
      "[3 4 5 6 7]\n",
      "[ 2  4  6  8 10]\n",
      "[0.5 1.  1.5 2.  2.5]\n",
      "[ 1  4  9 16 25]\n"
     ]
    }
   ],
   "source": [
    "n=np.array([1,2,3,4,5])\n",
    "print(n>3)\n",
    "print(n[n>3])\n",
    "print(np.subtract(n,3))#her birinden üç çıkartır\n",
    "print(np.add(n,2))#ekleme yapar\n",
    "print(np.multiply(n,2))\n",
    "print(np.divide(n,2))\n",
    "print(np.power(n,2))\n",
    "#diğer işlemler için ?np yaparsak gösteriri"
   ]
  },
  {
   "cell_type": "markdown",
   "metadata": {},
   "source": [
    "İki bilinmeyenli denklem çözümü\n"
   ]
  },
  {
   "cell_type": "code",
   "execution_count": 57,
   "metadata": {},
   "outputs": [
    {
     "name": "stdout",
     "output_type": "stream",
     "text": [
      "[1.85714286 2.71428571]\n"
     ]
    }
   ],
   "source": [
    "a=np.array([[5,1],[1,3]])\n",
    "b=np.array([12,10])\n",
    "x=np.linalg.solve(a,b)\n",
    "print(x)"
   ]
  },
  {
   "cell_type": "code",
   "execution_count": null,
   "metadata": {},
   "outputs": [],
   "source": []
  }
 ],
 "metadata": {
  "kernelspec": {
   "display_name": "Python 3",
   "language": "python",
   "name": "python3"
  },
  "language_info": {
   "codemirror_mode": {
    "name": "ipython",
    "version": 3
   },
   "file_extension": ".py",
   "mimetype": "text/x-python",
   "name": "python",
   "nbconvert_exporter": "python",
   "pygments_lexer": "ipython3",
   "version": "3.12.3"
  }
 },
 "nbformat": 4,
 "nbformat_minor": 2
}
