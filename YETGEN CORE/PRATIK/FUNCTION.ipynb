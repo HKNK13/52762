{
 "cells": [
  {
   "cell_type": "markdown",
   "metadata": {},
   "source": [
    "PROBLEM1 \n",
    "\n",
    "*çift sayıları bulduk\n",
    "\n",
    "**end=\" \" ile alt alta yazılan output'ları yanyana yazdık"
   ]
  },
  {
   "cell_type": "code",
   "execution_count": 5,
   "metadata": {},
   "outputs": [
    {
     "name": "stdout",
     "output_type": "stream",
     "text": [
      "0 2 4 6 8 "
     ]
    }
   ],
   "source": [
    "x=int(input(\" enter a integer: \"))\n",
    "def integer():\n",
    "    if x < 0:\n",
    "        print(\"Error message x is lower than 0\")\n",
    "    else:\n",
    "        for i in range(0,x,2):\n",
    "            print(i, end=\" \")\n",
    "integer()"
   ]
  },
  {
   "cell_type": "markdown",
   "metadata": {},
   "source": [
    "PROBLEM2 \n",
    "\n",
    "*sayılarının yuuvalanış fonksiyonu "
   ]
  },
  {
   "cell_type": "code",
   "execution_count": 14,
   "metadata": {},
   "outputs": [
    {
     "name": "stdout",
     "output_type": "stream",
     "text": [
      "0.01 is rounded to  0\n",
      "126.71 is rounded to  127\n",
      "7.5 is rounded to  7\n",
      "4 is rounded to  4\n"
     ]
    }
   ],
   "source": [
    "def num_nearest(num):\n",
    "    int_num=int(num)\n",
    "    if num-int_num>0.5:\n",
    "        int_num+=1\n",
    "    return int_num    \n",
    "print(\"0.01 is rounded to \" , num_nearest(0.01) )\n",
    "print(\"126.71 is rounded to \" , num_nearest(126.71))\n",
    "print(\"7.5 is rounded to \" , num_nearest(7.5))\n",
    "print(\"4 is rounded to \" , num_nearest(4))"
   ]
  },
  {
   "cell_type": "markdown",
   "metadata": {},
   "source": [
    "PROBLEM 3 "
   ]
  },
  {
   "cell_type": "code",
   "execution_count": 10,
   "metadata": {},
   "outputs": [
    {
     "name": "stdout",
     "output_type": "stream",
     "text": [
      "maximum number amnong ',a,',',b,',', c,'and',d,' is =  79\n"
     ]
    }
   ],
   "source": [
    "def max_2(num1,num2):\n",
    "    if num1>=num2:\n",
    "        return num1 \n",
    "    return num2 \n",
    "def max_3(num1,num2,num3):\n",
    "    max_for_2=max_2(num1,num2)\n",
    "    return max_2(max_for_2,num3)\n",
    "def max_4(num1,num2,num3,num4):\n",
    "    max_for_3=max_3(num1,num2,num3)\n",
    "    return max_2(max_for_3,num4)\n",
    "def max_4_values(a,b,c,d):\n",
    "    print(\"maximum number amnong ',a,',',b,',', c,'and',d,' is = \" , max_4(a,b,c,d))\n",
    "max_4_values(23,56,-6,79)\n"
   ]
  },
  {
   "cell_type": "markdown",
   "metadata": {},
   "source": [
    "PROBLEM 4 \n",
    "\n",
    "*reverse yani ters basımın nasıl olduğunu öğrendik "
   ]
  },
  {
   "cell_type": "code",
   "execution_count": 17,
   "metadata": {},
   "outputs": [],
   "source": [
    "def between(x,y):\n",
    "    for i in range(x,y+1):\n",
    "        print(i, end=\" \")\n",
    "def between_reverse(x,y):\n",
    "    for i in range(y,x-1,-1):\n",
    "        print(i,end=\" \")\n",
    "def between_both(x,y,isReverse):\n",
    "    if isReverse:\n",
    "        print(between_reverse(x,y))\n",
    "    else:\n",
    "        print(between(x,y))\n",
    "\n",
    "\n"
   ]
  },
  {
   "cell_type": "code",
   "execution_count": 18,
   "metadata": {},
   "outputs": [
    {
     "name": "stdout",
     "output_type": "stream",
     "text": [
      "Maximum number among 4 , 67 , -3 and 66 is = 67\n",
      "Maximum number among 5 , 5 , 2 and 4 is = 5\n",
      "Maximum number among -6 , 3 , 4 and 4 is = 4\n"
     ]
    }
   ],
   "source": [
    "def max_4(num1,num2,num3,num4):\n",
    "    return max_2(max_3(num1,num2,num3),num4)\n",
    "def max_3(num1,num2,num3):\n",
    "    max_of_first_2 = max_2(num1,num2)\n",
    "    return max_2(max_of_first_2,num3)\n",
    "def max_2(num1,num2):\n",
    "    if num1>=num2:\n",
    "        return num1\n",
    "    return num2\n",
    "def print_for_4_values(a,b,c,d):\n",
    "    print('Maximum number among',a,',',b,',', c,'and',d,'is =',max_4(a,b,c,d))\n",
    "\n",
    "print_for_4_values(4,67,-3,66)\n",
    "print_for_4_values(5,5,2,4)\n",
    "print_for_4_values(-6,3,4,4)\n",
    "   "
   ]
  }
 ],
 "metadata": {
  "kernelspec": {
   "display_name": "Python 3",
   "language": "python",
   "name": "python3"
  },
  "language_info": {
   "codemirror_mode": {
    "name": "ipython",
    "version": 3
   },
   "file_extension": ".py",
   "mimetype": "text/x-python",
   "name": "python",
   "nbconvert_exporter": "python",
   "pygments_lexer": "ipython3",
   "version": "3.12.3"
  }
 },
 "nbformat": 4,
 "nbformat_minor": 2
}
