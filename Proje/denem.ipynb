{
 "cells": [
  {
   "cell_type": "code",
   "execution_count": 23,
   "metadata": {},
   "outputs": [
    {
     "name": "stdout",
     "output_type": "stream",
     "text": [
      "Bilet türleri:\n",
      "Yetişkin: Tam bilet\n",
      "Çocuk: 18 yaş altı çocuklar için %25 indirimli bilet\n",
      "Bilet türünüz: Çocuk (18 yaş altı çocuklar için %25 indirimli bilet)\n",
      "Sınıf türleri ve hakları:\n",
      "Ekonomi: 15 kg bagaj hakkı - 8 kg el bagajı hakkı - 500 mil puanı\n",
      "Prime: 25 kg bagaj hakkı - 8 kg el bagajı hakkı - 1000 mil puanı - ikram - bilet fiyatının 1.5 katı\n",
      "Bilet sınıfınız: Prime\n",
      "Fiyat: 2250.0 TL\n"
     ]
    }
   ],
   "source": [
    "class Sınıf:\n",
    "    def __init__(self, bilet_türü=None, koltuk_sınıfı=None):\n",
    "        self.bilet_türü = bilet_türü\n",
    "        self.koltuk_sınıfı = koltuk_sınıfı\n",
    "\n",
    "    def biletTürü(self):\n",
    "        print(\"Bilet türleri:\")\n",
    "        bilet_türleri = {\n",
    "            \"Yetişkin\": \"Tam bilet\",\n",
    "            \"Çocuk\": \"18 yaş altı çocuklar için %25 indirimli bilet\"\n",
    "        }\n",
    "        for key, value in bilet_türleri.items():\n",
    "            print(f\"{key}: {value}\")\n",
    "        bilet_seç = str(input(\"Almak istediğiniz bilet türünü seçiniz: \")).capitalize()\n",
    "        if bilet_seç in bilet_türleri:\n",
    "            self.bilet_türü = bilet_seç\n",
    "            print(\"Bilet türünüz: \" + bilet_seç + \" (\" + bilet_türleri[bilet_seç] + \")\")\n",
    "        else:\n",
    "            print(\"Geçersiz seçim. Lütfen doğru bir bilet türü seçiniz.\")\n",
    "    def koltukSınıfı(self):\n",
    "        print(\"Sınıf türleri ve hakları:\")\n",
    "        sınıf_türleri = {\n",
    "            \"Ekonomi\": \"15 kg bagaj hakkı - 8 kg el bagajı hakkı - 500 mil puanı\",\n",
    "            \"Prime\": \"25 kg bagaj hakkı - 8 kg el bagajı hakkı - 1000 mil puanı - ikram - bilet fiyatının 1.5 katı\"\n",
    "        }\n",
    "        for key, value in sınıf_türleri.items():\n",
    "            print(f\"{key}: {value}\")\n",
    "        sınıf_seç = str(input(\"Almak istediğiniz bilet sınıfını seçiniz: \")).capitalize()\n",
    "        if sınıf_seç in sınıf_türleri:\n",
    "            self.koltuk_sınıfı = sınıf_seç\n",
    "            print(\"Bilet sınıfınız: \" + sınıf_seç)\n",
    "        else:\n",
    "            print(\"Geçersiz seçim. Lütfen doğru bir bilet sınıfı seçiniz.\")\n",
    "class Fiyat(Sınıf):\n",
    "    def __init__(self, bilet_türü=None, koltuk_sınıfı=None, fiyat=2000):\n",
    "        super().__init__(bilet_türü, koltuk_sınıfı)\n",
    "        self.fiyat = fiyat\n",
    "\n",
    "    def bilet_fiyat(self):\n",
    "        if self.koltuk_sınıfı == \"Ekonomi\" and self.bilet_türü == \"Yetişkin\":\n",
    "            print(f\"Fiyat: {self.fiyat} TL\")\n",
    "        elif self.koltuk_sınıfı == \"Ekonomi\" and self.bilet_türü == \"Çocuk\":\n",
    "            print(f\"Fiyat: {self.fiyat * 0.75} TL\")\n",
    "        elif self.koltuk_sınıfı == \"Prime\" and self.bilet_türü == \"Yetişkin\":\n",
    "            print(f\"Fiyat: {self.fiyat * 1.5} TL\")\n",
    "        elif self.koltuk_sınıfı == \"Prime\" and self.bilet_türü == \"Çocuk\":\n",
    "            print(f\"Fiyat: {self.fiyat * 1.5 * 0.75} TL\")\n",
    "        else:\n",
    "            print(\"Bilet türü veya koltuk sınıfı hatalı.\")\n",
    "bilet = Sınıf()\n",
    "bilet.biletTürü()\n",
    "bilet.koltukSınıfı()\n",
    "bilet_fiyatı = Fiyat(bilet.bilet_türü, bilet.koltuk_sınıfı)\n",
    "bilet_fiyatı.bilet_fiyat()\n"
   ]
  },
  {
   "cell_type": "code",
   "execution_count": null,
   "metadata": {},
   "outputs": [],
   "source": [
    "import time\n",
    "class Sınıf:\n",
    "    def __init__(self,bilet_türü=None,koltuk_sınıfı=None):\n",
    "        self.bilet_türü = bilet_türü\n",
    "        self.koltuk_sınıfı = koltuk_sınıfı\n",
    "\n",
    "    def biletTürü(self):\n",
    "        print(\"Bilet türleri:\")\n",
    "        bilet_türleri = {\n",
    "            \"Yetişkin\": \"Tam bilet\",\n",
    "            \"Çocuk\": \"18 yaş altı çocuklar için %25 indirimli bilet\"\n",
    "        }\n",
    "        for key, value in bilet_türleri.items():\n",
    "            print(f\"{key}: {value}\")\n",
    "        bilet_seç = str(input(\"Almak istediğiniz bilet türünü seçiniz: \")).capitalize()\n",
    "        if bilet_seç in bilet_türleri:\n",
    "            self.bilet_türü = bilet_türleri[bilet_seç]\n",
    "            print(\"Bilet türünüz:\"+bilet_seç + \" \" + \"(\" + self.bilet_türü+ \")\" )\n",
    "        else:\n",
    "            print(\"Geçersiz seçim. Lütfen doğru bir bilet türü seçiniz.\")\n",
    "    def koltukSınıfı(self):\n",
    "        print(\"Sınıf türleri ve hakları:\")\n",
    "        sınıf_türleri={\n",
    "            \"Ekonomi\":\"15 kg bagaj hakkı - 8 kg el bagajı hakkı - 500 mil puanı\",\n",
    "            \"Prime\":\"25 kg bagaj hakkı - 8 kg el bagajı hakkı - 1000 mil puanı - ikram - bilet fiyatının 1.5 katı\"\n",
    "        }\n",
    "        for key, value in sınıf_türleri.items():\n",
    "            print(f\"{key}: {value}\")\n",
    "        sınıf_seç=str(input(\"Almak istediğiniz bilet sınıfını seçiniz: \")).capitalize()\n",
    "        if sınıf_seç in sınıf_türleri:\n",
    "            self.koltuk_sınıfı = sınıf_türleri[sınıf_seç]\n",
    "            print(\"Bilet türünüz:\"+sınıf_seç )\n",
    "        else:\n",
    "            print(\"Geçersiz seçim. Lütfen doğru bir bilet sınıfı seçiniz.\")\n",
    "class Fiyat(Sınıf):\n",
    "    def __init__(self, bilet_türü=None, koltuk_sınıfı=None,fiyat=2000):\n",
    "        super().__init__(bilet_türü, koltuk_sınıfı)\n",
    "        self.fiyat=fiyat\n",
    "    def bilet_fiyat(self):\n",
    "        if self.koltuk_sınıfı==\"Ekonomi\" and self.bilet_türü==\"Yetişkin\":\n",
    "            print(f\"Fiyat:{self.fiyat}TL\")\n",
    "        elif self.koltuk_sınıfı==\"Ekonomi\" and self.bilet_türü==\"Çocuk\":\n",
    "            print(f\"Fiyat:{self.fiyat*0.75}TL\")   \n",
    "        elif self.koltuk_sınıfı==\"Prime\" and self.bilet_türü==\"Yetişkin\":\n",
    "            print(f\"Fiyat:{self.fiyat*1.5}TL\")\n",
    "        elif self.koltuk_sınıfı==\"Prime\" and self.bilet_türü==\"Çocuk\":\n",
    "            print(f\"Fiyat:{self.fiyat*1.5*0.75}\")  \n",
    "        else:\n",
    "            print(\"a\")\n",
    "bilet = Sınıf()\n",
    "bilet.biletTürü()\n",
    "bilet.koltukSınıfı()\n",
    "bilet_fiyatı = Fiyat(bilet.bilet_türü, bilet.koltuk_sınıfı)\n",
    "bilet_fiyatı.bilet_fiyat()\n"
   ]
  },
  {
   "cell_type": "code",
   "execution_count": null,
   "metadata": {},
   "outputs": [],
   "source": [
    "yıl=int(input(\"İşlem yapmak istediğiniz yılı seçiniz:\"))\n",
    "aylar={\n",
    "        \"ocak\":1,\"şubat\":2,\"mart\":3,\"nisan\":4,\"mayıs\":5,\"haziran\":6,\n",
    "        \"temmuz\":7,\"ağustos\":8,\"eylül\":9,\"ekim\":10,\"kasım\":11,\"aralık\":12# tarih hatası!!!\n",
    "        }\n",
    "ay=str(input(\"İşlem yapmak istediğiniz ayı yazınız:\")).lower()\n",
    "ayı=aylar[f\"{ay}\"]\n",
    "b=calendar.TextCalendar(calendar.MONDAY)\n",
    "c=b.formatmonth(yıl,ayı)\n",
    "print(c)\n",
    "gün=int(input(\"İşlem yapmak istediğiniz günü giriniz:\")) "
   ]
  },
  {
   "cell_type": "code",
   "execution_count": 2,
   "metadata": {},
   "outputs": [
    {
     "name": "stdout",
     "output_type": "stream",
     "text": [
      "Hata yaptınız tekrar yıl seçiniz.\n",
      "2025\n",
      "Ay seçerken hata yaptınız.Tekrar seçiniz.\n",
      "Mayıs\n"
     ]
    }
   ],
   "source": [
    "while True:\n",
    "    yıl=int(input(\"İşlem yapmak istediğiniz yılı seçiniz: \"))\n",
    "    if yıl<2024:\n",
    "        print(\"Hata yaptınız tekrar yıl seçiniz.\")\n",
    "    else:\n",
    "        print(yıl)\n",
    "        break \n",
    "while True:\n",
    "    aylar={\n",
    "        1:\"Ocak\",2:\"Şubat\",3:\"Mart\",4:\"Nisan\",5:\"Mayıs\",6:\"Haziran\",\n",
    "        7:\"Temmuz\",8:\"Ağustos\",9:\"Eylül\",10:\"Ekim\",11:\"Kasım\",12:\"Aralık\"}\n",
    "    ay=int(input(\"İşlem yapmak istediğniz ayın numarasını giriniz(1 den 12 e kadar: \")) \n",
    "    if ay>12:\n",
    "        print(\"Ay seçerken hata yaptınız.Tekrar seçiniz.\")\n",
    "    else :\n",
    "        ayı=aylar[ay]\n",
    "        print(ayı)\n",
    "        break\n",
    "    \n"
   ]
  },
  {
   "cell_type": "code",
   "execution_count": 13,
   "metadata": {},
   "outputs": [
    {
     "name": "stdout",
     "output_type": "stream",
     "text": [
      "May 2024\n"
     ]
    }
   ],
   "source": [
    "import time \n",
    "import calendar\n",
    "a=calendar.TextCalendar(calendar.MONDAY)\n",
    "b=a.formatmonth(2025,6)\n",
    "c=a.formatmonthname(2024,5,3)\n",
    "print(c)"
   ]
  },
  {
   "cell_type": "code",
   "execution_count": 2,
   "metadata": {},
   "outputs": [],
   "source": [
    "ayı=\"bilgi\"\n",
    "def kişi_bilgileri():\n",
    "    ad=str(input(\"Lütfen adınızı giriniz:\"))\n",
    "    soyad=str(input(\"Lütfen soyadınızı giriniz:\"))\n",
    "    tc=int(input(\"Lütfen 11 haneli kimlik numaranızı giriniz:\"))\n",
    "    yaş=int(input(\"Lütfen yaşınızı giriniz:\"))\n",
    "    with open(f\"{ayı}.txt\", \"w\", encoding=\"utf-8\") as file:\n",
    "        file.write(f\"Adınız: {ad} {soyad}\\n\")\n",
    "        file.write(f\"TC kimlik numaranız: {tc}\\n\")\n",
    "        file.write(f\"Yaşınız: {yaş}\\n\")\n",
    "kişi_bilgileri()"
   ]
  }
 ],
 "metadata": {
  "kernelspec": {
   "display_name": "Python 3",
   "language": "python",
   "name": "python3"
  },
  "language_info": {
   "codemirror_mode": {
    "name": "ipython",
    "version": 3
   },
   "file_extension": ".py",
   "mimetype": "text/x-python",
   "name": "python",
   "nbconvert_exporter": "python",
   "pygments_lexer": "ipython3",
   "version": "3.12.3"
  }
 },
 "nbformat": 4,
 "nbformat_minor": 2
}
