{
 "cells": [
  {
   "cell_type": "code",
   "execution_count": null,
   "metadata": {},
   "outputs": [],
   "source": [
    "from random import randint\n",
    "def input_check(a,b):\n",
    "    if a>0 and b>0 and b>a:\n",
    "        return True\n",
    "    return False\n",
    "def avg_random(a,b):\n",
    "    s = 0\n",
    "    for i in range(1000):\n",
    "        s+=randint(a,b-1)\n",
    "    return s/1000\n",
    "def process():\n",
    "    while True:\n",
    "        a = int(input('Enter a: '))\n",
    "        b = int(input('Enter b: '))\n",
    "        if input_check(a,b):\n",
    "            break\n",
    "        print('Invalid input')\n",
    "    print('Average of random numbers between',a,'and',b-1,'is =',avg_random(a,b))\n",
    "process()\n",
    "process()\n"
   ]
  },
  {
   "cell_type": "code",
   "execution_count": null,
   "metadata": {},
   "outputs": [],
   "source": [
    "'''\n",
    "- Write a function to take a single integer from user.\n",
    "    Use it both for x and y\n",
    "- Write another function to\n",
    "    check if a variable is bigger than 0 or not.\n",
    "- Write main flow to test your functions!\n",
    "'''\n",
    "def print_in_order(x,y):\n",
    "    for i in range(x,y+1):\n",
    "        print(i)\n",
    "def print_in_reverse(x,y):\n",
    "    for i in range(y,x-1,-1):\n",
    "        print(i)\n",
    "def print_all(x,y,isReverse):\n",
    "    if isReverse:\n",
    "        print_in_reverse(x,y)\n",
    "    else:\n",
    "        print_in_order(x,y)\n",
    "def take_input():\n",
    "    return int(input('Enter an integer:'))\n",
    "def is_positive(var):\n",
    "    return var>0\n",
    "x = take_input()\n",
    "y = take_input()\n",
    "if is_positive(x) and is_positive(y):\n",
    "    print('In order print- version 1')\n",
    "    print_in_order(x,y)\n",
    "    print('In order print- version 2')\n",
    "    print_all(x,y,False)\n",
    "    print('Reverse print- version 1')\n",
    "    print_in_reverse(x,y)\n",
    "    print('Reverse print- version 2')\n",
    "    print_all(x,y,True)\n",
    "else:\n",
    "    print('Error! One of the variables is not positive!')\n"
   ]
  },
  {
   "cell_type": "code",
   "execution_count": null,
   "metadata": {},
   "outputs": [],
   "source": [
    "def round_to_nearest(num):\n",
    "    num_int = int(num)\n",
    "    if num-num_int>0.5:\n",
    "        num_int+=1\n",
    "    return num_int\n",
    "print('0.01 is rounded to',round_to_nearest(0.01))\n",
    "print('126.51 is rounded to',round_to_nearest(126.51))\n",
    "print('7.5 is rounded to',round_to_nearest(7.5))\n",
    "print('10.66666 is rounded to',round_to_nearest(10.66666))\n",
    "print('4 is rounded to',round_to_nearest(4))\n"
   ]
  }
 ],
 "metadata": {
  "language_info": {
   "name": "python"
  }
 },
 "nbformat": 4,
 "nbformat_minor": 2
}
